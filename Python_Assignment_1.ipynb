{
 "cells": [
  {
   "cell_type": "code",
   "execution_count": 3,
   "metadata": {
    "id": "OBF0Quv3mbGO"
   },
   "outputs": [],
   "source": [
    "# Price Data\n",
    "\n",
    "item_dict = {'almonds': 6,\n",
    " 'antioxidant juice': 9,\n",
    " 'avocado': 1,\n",
    " 'black tea': 4,\n",
    " 'burgers': 4,\n",
    " 'champagne': 3,\n",
    " 'chicken': 4,\n",
    " 'chocolate': 7,\n",
    " 'chutney': 7,\n",
    " 'cookies': 7,\n",
    " 'cooking oil': 7,\n",
    " 'cottage cheese': 9,\n",
    " 'eggs': 9,\n",
    " 'energy bar': 9,\n",
    " 'energy drink': 3,\n",
    " 'extra dark chocolate': 8,\n",
    " 'french fries': 7,\n",
    " 'fresh tuna': 9,\n",
    " 'frozen smoothie': 7,\n",
    " 'frozen vegetables': 2,\n",
    " 'green grapes': 8,\n",
    " 'green tea': 8,\n",
    " 'honey': 9,\n",
    " 'light cream': 5,\n",
    " 'low fat yogurt': 4,\n",
    " 'meatballs': 9,\n",
    " 'milk': 5,\n",
    " 'mineral water': 2,\n",
    " 'oil': 9,\n",
    " 'olive oil': 8,\n",
    " 'pet food': 3,\n",
    " 'protein bar': 1,\n",
    " 'salad': 7,\n",
    " 'salmon': 3,\n",
    " 'shallot': 6,\n",
    " 'shrimp': 2,\n",
    " 'soup': 2,\n",
    " 'spaghetti': 6,\n",
    " 'spinach': 7,\n",
    " 'tomato juice': 8,\n",
    " 'tomatoes': 5,\n",
    " 'turkey': 8,\n",
    " 'vegetables mix': 3,\n",
    " 'whole wheat flour': 5,\n",
    " 'whole wheat pasta': 5,\n",
    " 'whole wheat rice': 4,\n",
    " 'yams': 7}"
   ]
  },
  {
   "cell_type": "code",
   "execution_count": 4,
   "metadata": {
    "id": "_uutgZt4mcgz"
   },
   "outputs": [],
   "source": [
    "# transaction data\n",
    "\n",
    "transaction_data = \\\n",
    "[['shrimp', 'almonds', 'avocado', 'vegetables mix', 'green grapes', 'whole wheat flour', 'yams', 'cottage cheese', 'energy drink', 'tomato juice', 'low fat yogurt', 'green tea', 'honey', 'salad', 'mineral water', 'salmon', 'antioxidant juice', 'frozen smoothie', 'spinach', 'olive oil'],\n",
    "['burgers', 'meatballs', 'eggs'],\n",
    "['chutney'],\n",
    "['turkey', 'avocado'],\n",
    "['mineral water', 'milk', 'energy bar', 'whole wheat rice', 'green tea'],\n",
    "['low fat yogurt'],\n",
    "['whole wheat pasta', 'french fries'],\n",
    "['soup', 'light cream', 'shallot'],\n",
    "['frozen vegetables', 'spaghetti', 'green tea'],\n",
    "['french fries'],\n",
    "['eggs', 'pet food'],\n",
    "['cookies'],\n",
    "['turkey', 'burgers', 'mineral water', 'eggs', 'cooking oil'],\n",
    "['spaghetti', 'champagne', 'cookies'],\n",
    "['mineral water', 'salmon'],\n",
    "['mineral water'],\n",
    "['shrimp', 'chocolate', 'chicken', 'honey', 'oil', 'cooking oil', 'low fat yogurt'],\n",
    "['turkey', 'eggs'],\n",
    "['turkey', 'fresh tuna', 'tomatoes', 'spaghetti', 'mineral water', 'black tea', 'salmon', 'eggs', 'chicken', 'extra dark chocolate'],\n",
    "['meatballs', 'milk', 'honey', 'french fries', 'protein bar']]"
   ]
  },
  {
   "cell_type": "markdown",
   "metadata": {},
   "source": [
    "1. Find how many unique items are present in the data?  (Hint: It will correspond to the number of key pairs in the Cost dictionary)"
   ]
  },
  {
   "cell_type": "code",
   "execution_count": 5,
   "metadata": {
    "id": "lTmOHxeVmjt0"
   },
   "outputs": [
    {
     "data": {
      "text/plain": [
       "47"
      ]
     },
     "execution_count": 5,
     "metadata": {},
     "output_type": "execute_result"
    }
   ],
   "source": [
    "unique_items = len(item_dict.keys())\n",
    "unique_items"
   ]
  },
  {
   "cell_type": "markdown",
   "metadata": {},
   "source": [
    "2. Find the total number of transactions?"
   ]
  },
  {
   "cell_type": "code",
   "execution_count": 6,
   "metadata": {},
   "outputs": [
    {
     "data": {
      "text/plain": [
       "20"
      ]
     },
     "execution_count": 6,
     "metadata": {},
     "output_type": "execute_result"
    }
   ],
   "source": [
    "total_transactions = len(transaction_data)\n",
    "total_transactions"
   ]
  },
  {
   "cell_type": "markdown",
   "metadata": {},
   "source": [
    "3. Add items, try adding the item “banana” in stores. The cost of this item is '$5'. Add the item “banana” to the Cost dictionary."
   ]
  },
  {
   "cell_type": "code",
   "execution_count": 7,
   "metadata": {},
   "outputs": [],
   "source": [
    "item_dict[\"banana\"] = 5\n"
   ]
  },
  {
   "cell_type": "markdown",
   "metadata": {},
   "source": [
    "4. Use a function named add_item( ) to automatically add an item to the Cost dictionary given its name and price."
   ]
  },
  {
   "cell_type": "code",
   "execution_count": 8,
   "metadata": {},
   "outputs": [],
   "source": [
    "def add_item(item,price):\n",
    "    '''\n",
    "    Adds new item with the price to the item_dict\n",
    "    \n",
    "    Parameters: \n",
    "    item (string) : Name of the item\n",
    "    price (int) : Price of the item\n",
    "    \n",
    "    Returns:\n",
    "    Dictionary : Returns item_dict\n",
    "    '''\n",
    "    item_dict[item]=price\n",
    "    return item_dict"
   ]
  },
  {
   "cell_type": "markdown",
   "metadata": {},
   "source": [
    "5. Create a function called remove_item( ) to automatically remove an item from the Cost dictionary given its name."
   ]
  },
  {
   "cell_type": "code",
   "execution_count": 9,
   "metadata": {},
   "outputs": [],
   "source": [
    "def remove_item(item):\n",
    "    '''\n",
    "    Removes the given item from the item_dict\n",
    "    \n",
    "    Parameters: \n",
    "    item (string) : Name of the item\n",
    "    \n",
    "    Returns:\n",
    "    Dictionary : Returns item_dict\n",
    "    '''\n",
    "    \n",
    "    item_dict.pop(item)\n",
    "    return item_dict"
   ]
  },
  {
   "cell_type": "markdown",
   "metadata": {},
   "source": [
    "Question 2"
   ]
  },
  {
   "cell_type": "markdown",
   "metadata": {},
   "source": [
    "1. Write the code, to find the price of an item from the cost dictionary\n",
    "\n",
    "    Find the price of salmon from the cost dictionary"
   ]
  },
  {
   "cell_type": "code",
   "execution_count": 10,
   "metadata": {},
   "outputs": [
    {
     "data": {
      "text/plain": [
       "3"
      ]
     },
     "execution_count": 10,
     "metadata": {},
     "output_type": "execute_result"
    }
   ],
   "source": [
    "price_salmon = item_dict[\"salmon\"]\n",
    "price_salmon"
   ]
  },
  {
   "cell_type": "markdown",
   "metadata": {},
   "source": [
    "2. Write a code that helps the administrator find any particular transaction in the sequence\n",
    "\n",
    "    Try finding the ninth transaction from the data"
   ]
  },
  {
   "cell_type": "code",
   "execution_count": 11,
   "metadata": {},
   "outputs": [
    {
     "data": {
      "text/plain": [
       "['frozen vegetables', 'spaghetti', 'green tea']"
      ]
     },
     "execution_count": 11,
     "metadata": {},
     "output_type": "execute_result"
    }
   ],
   "source": [
    "transaction_9 = transaction_data[8]\n",
    "transaction_9"
   ]
  },
  {
   "cell_type": "markdown",
   "metadata": {},
   "source": [
    "3. How many items are present in the ninth transaction?"
   ]
  },
  {
   "cell_type": "code",
   "execution_count": 12,
   "metadata": {},
   "outputs": [
    {
     "data": {
      "text/plain": [
       "3"
      ]
     },
     "execution_count": 12,
     "metadata": {},
     "output_type": "execute_result"
    }
   ],
   "source": [
    "no_items_transaction_9 = len(transaction_9)\n",
    "no_items_transaction_9"
   ]
  },
  {
   "cell_type": "markdown",
   "metadata": {},
   "source": [
    "4. Find the total cost of the ninth transaction from the array of transactions."
   ]
  },
  {
   "cell_type": "code",
   "execution_count": 13,
   "metadata": {},
   "outputs": [
    {
     "data": {
      "text/plain": [
       "16"
      ]
     },
     "execution_count": 13,
     "metadata": {},
     "output_type": "execute_result"
    }
   ],
   "source": [
    "total_cost_9_transaction = 0\n",
    "\n",
    "for item in transaction_9:\n",
    "    total_cost_9_transaction+=item_dict[item]\n",
    "\n",
    "total_cost_9_transaction"
   ]
  },
  {
   "cell_type": "markdown",
   "metadata": {},
   "source": [
    "5. Create a function named find_total( ) to find the final price of any transaction after applicable taxes have been implemented."
   ]
  },
  {
   "cell_type": "code",
   "execution_count": 14,
   "metadata": {},
   "outputs": [],
   "source": [
    "def find_total(transaction):\n",
    "    '''\n",
    "    Finds total cost of particular transaction from transaction data\n",
    "    \n",
    "    Parameters: \n",
    "    transaction (List) : List of items of a particular transaction\n",
    "    \n",
    "    Returns:\n",
    "    float : Returns total cost of the particular transaction\n",
    "    '''\n",
    "    total_cost = 0\n",
    "    for item in transaction:\n",
    "        total_cost+=item_dict[item]\n",
    "    tax = 0.05*total_cost\n",
    "    total_cost +=tax\n",
    "    return total_cost\n"
   ]
  },
  {
   "cell_type": "markdown",
   "metadata": {},
   "source": [
    "6. As per government guidelines, a mandatory 5% tax is applied to the total cost of a transaction. Find the final price of the second transaction after applicable taxes have been implemented."
   ]
  },
  {
   "cell_type": "code",
   "execution_count": 15,
   "metadata": {},
   "outputs": [
    {
     "data": {
      "text/plain": [
       "23.1"
      ]
     },
     "execution_count": 15,
     "metadata": {},
     "output_type": "execute_result"
    }
   ],
   "source": [
    "find_total(transaction_data[1])"
   ]
  },
  {
   "cell_type": "markdown",
   "metadata": {},
   "source": [
    "Question 3."
   ]
  },
  {
   "cell_type": "markdown",
   "metadata": {},
   "source": [
    "1. What is the data structure that can be used to count the frequency of items purchased (from the transaction data)?\n",
    "   Ans: Dictionary"
   ]
  },
  {
   "cell_type": "markdown",
   "metadata": {},
   "source": [
    "Ans: Dictionary"
   ]
  },
  {
   "cell_type": "markdown",
   "metadata": {},
   "source": [
    "2. Create a frequency counter to count the number of items:"
   ]
  },
  {
   "cell_type": "code",
   "execution_count": 16,
   "metadata": {},
   "outputs": [
    {
     "data": {
      "text/plain": [
       "{'shrimp': 2,\n",
       " 'almonds': 1,\n",
       " 'avocado': 2,\n",
       " 'vegetables mix': 1,\n",
       " 'green grapes': 1,\n",
       " 'whole wheat flour': 1,\n",
       " 'yams': 1,\n",
       " 'cottage cheese': 1,\n",
       " 'energy drink': 1,\n",
       " 'tomato juice': 1,\n",
       " 'low fat yogurt': 3,\n",
       " 'green tea': 3,\n",
       " 'honey': 3,\n",
       " 'salad': 1,\n",
       " 'mineral water': 6,\n",
       " 'salmon': 3,\n",
       " 'antioxidant juice': 1,\n",
       " 'frozen smoothie': 1,\n",
       " 'spinach': 1,\n",
       " 'olive oil': 1,\n",
       " 'burgers': 2,\n",
       " 'meatballs': 2,\n",
       " 'eggs': 5,\n",
       " 'chutney': 1,\n",
       " 'turkey': 4,\n",
       " 'milk': 2,\n",
       " 'energy bar': 1,\n",
       " 'whole wheat rice': 1,\n",
       " 'whole wheat pasta': 1,\n",
       " 'french fries': 3,\n",
       " 'soup': 1,\n",
       " 'light cream': 1,\n",
       " 'shallot': 1,\n",
       " 'frozen vegetables': 1,\n",
       " 'spaghetti': 3,\n",
       " 'pet food': 1,\n",
       " 'cookies': 2,\n",
       " 'cooking oil': 2,\n",
       " 'champagne': 1,\n",
       " 'chocolate': 1,\n",
       " 'chicken': 2,\n",
       " 'oil': 1,\n",
       " 'fresh tuna': 1,\n",
       " 'tomatoes': 1,\n",
       " 'black tea': 1,\n",
       " 'extra dark chocolate': 1,\n",
       " 'protein bar': 1}"
      ]
     },
     "execution_count": 16,
     "metadata": {},
     "output_type": "execute_result"
    }
   ],
   "source": [
    "def calculate_frequency():\n",
    "    '''\n",
    "    Will count the total number of each items purchased from the transaction data\n",
    "    \n",
    "    Returns:\n",
    "    Dictionary : Returns frequency dictionary\n",
    "    '''\n",
    "    frequency_dict = {}  \n",
    "\n",
    "    for transaction in transaction_data:\n",
    "        for item in transaction:\n",
    "            if item in frequency_dict:\n",
    "                frequency_dict[item]+=1\n",
    "            else:\n",
    "                frequency_dict[item]=1\n",
    "    return frequency_dict\n",
    "frequency_dict = calculate_frequency()\n",
    "frequency_dict"
   ]
  },
  {
   "cell_type": "code",
   "execution_count": 17,
   "metadata": {},
   "outputs": [],
   "source": [
    "def update_counter(new_transaction):\n",
    "    '''\n",
    "    Will update the frequency dictionary for the new tansaction\n",
    "    \n",
    "    Parameters:\n",
    "    new_transaction (List) : List of items in new transaction\n",
    "    \n",
    "    Returns:\n",
    "    Dictionary : Returns updated frequency dictionary\n",
    "    '''\n",
    "    for item in new_transaction:\n",
    "        if item in frequency_dict:\n",
    "            frequency_dict[item]+=1\n",
    "        else:\n",
    "            frequency_dict[item]=1\n",
    "    return frequency_dict\n"
   ]
  },
  {
   "cell_type": "markdown",
   "metadata": {},
   "source": [
    "3. A new transaction has just been made. This transaction includes “honey,” “pet food,” and “shrimp.” Update the frequency counter to reflect this new transaction."
   ]
  },
  {
   "cell_type": "code",
   "execution_count": 18,
   "metadata": {},
   "outputs": [
    {
     "data": {
      "text/plain": [
       "{'shrimp': 3,\n",
       " 'almonds': 1,\n",
       " 'avocado': 2,\n",
       " 'vegetables mix': 1,\n",
       " 'green grapes': 1,\n",
       " 'whole wheat flour': 1,\n",
       " 'yams': 1,\n",
       " 'cottage cheese': 1,\n",
       " 'energy drink': 1,\n",
       " 'tomato juice': 1,\n",
       " 'low fat yogurt': 3,\n",
       " 'green tea': 3,\n",
       " 'honey': 4,\n",
       " 'salad': 1,\n",
       " 'mineral water': 6,\n",
       " 'salmon': 3,\n",
       " 'antioxidant juice': 1,\n",
       " 'frozen smoothie': 1,\n",
       " 'spinach': 1,\n",
       " 'olive oil': 1,\n",
       " 'burgers': 2,\n",
       " 'meatballs': 2,\n",
       " 'eggs': 5,\n",
       " 'chutney': 1,\n",
       " 'turkey': 4,\n",
       " 'milk': 2,\n",
       " 'energy bar': 1,\n",
       " 'whole wheat rice': 1,\n",
       " 'whole wheat pasta': 1,\n",
       " 'french fries': 3,\n",
       " 'soup': 1,\n",
       " 'light cream': 1,\n",
       " 'shallot': 1,\n",
       " 'frozen vegetables': 1,\n",
       " 'spaghetti': 3,\n",
       " 'pet food': 2,\n",
       " 'cookies': 2,\n",
       " 'cooking oil': 2,\n",
       " 'champagne': 1,\n",
       " 'chocolate': 1,\n",
       " 'chicken': 2,\n",
       " 'oil': 1,\n",
       " 'fresh tuna': 1,\n",
       " 'tomatoes': 1,\n",
       " 'black tea': 1,\n",
       " 'extra dark chocolate': 1,\n",
       " 'protein bar': 1}"
      ]
     },
     "execution_count": 18,
     "metadata": {},
     "output_type": "execute_result"
    }
   ],
   "source": [
    "frequency_counter = update_counter([ 'honey', 'pet food','shrimp'])\n",
    "frequency_counter"
   ]
  },
  {
   "cell_type": "markdown",
   "metadata": {},
   "source": [
    "Question 4."
   ]
  },
  {
   "cell_type": "markdown",
   "metadata": {},
   "source": [
    "1. \"What is the top-selling item?\""
   ]
  },
  {
   "cell_type": "code",
   "execution_count": 19,
   "metadata": {},
   "outputs": [
    {
     "data": {
      "text/plain": [
       "{'mineral water': 6, 'eggs': 5, 'turkey': 4}"
      ]
     },
     "execution_count": 19,
     "metadata": {},
     "output_type": "execute_result"
    }
   ],
   "source": [
    "sort_by_values = sorted(frequency_counter.items(),key=lambda x:(x[1],x[0]),reverse=True)\n",
    "top_3_selling_items = dict(sort_by_values[:3])\n",
    "top_3_selling_items"
   ]
  },
  {
   "cell_type": "code",
   "execution_count": 20,
   "metadata": {},
   "outputs": [
    {
     "data": {
      "text/plain": [
       "'mineral water'"
      ]
     },
     "execution_count": 20,
     "metadata": {},
     "output_type": "execute_result"
    }
   ],
   "source": [
    "top_selling_item = sort_by_values[0][0]\n",
    "top_selling_item"
   ]
  },
  {
   "cell_type": "code",
   "execution_count": 21,
   "metadata": {},
   "outputs": [
    {
     "name": "stdout",
     "output_type": "stream",
     "text": [
      "{'mineral water': 6, 'eggs': 5, 'turkey': 4, 'honey': 4, 'spaghetti': 3, 'shrimp': 3, 'salmon': 3, 'low fat yogurt': 3, 'green tea': 3, 'french fries': 3, 'pet food': 2, 'milk': 2, 'meatballs': 2, 'cooking oil': 2, 'cookies': 2, 'chicken': 2, 'burgers': 2, 'avocado': 2, 'yams': 1, 'whole wheat rice': 1, 'whole wheat pasta': 1, 'whole wheat flour': 1, 'vegetables mix': 1, 'tomatoes': 1, 'tomato juice': 1, 'spinach': 1, 'soup': 1, 'shallot': 1, 'salad': 1, 'protein bar': 1, 'olive oil': 1, 'oil': 1, 'light cream': 1, 'green grapes': 1, 'frozen vegetables': 1, 'frozen smoothie': 1, 'fresh tuna': 1, 'extra dark chocolate': 1, 'energy drink': 1, 'energy bar': 1, 'cottage cheese': 1, 'chutney': 1, 'chocolate': 1, 'champagne': 1, 'black tea': 1, 'antioxidant juice': 1, 'almonds': 1}\n"
     ]
    }
   ],
   "source": [
    "print(dict(sort_by_values))"
   ]
  },
  {
   "cell_type": "markdown",
   "metadata": {},
   "source": [
    "Insertion Sort"
   ]
  },
  {
   "cell_type": "code",
   "execution_count": 22,
   "metadata": {},
   "outputs": [
    {
     "name": "stdout",
     "output_type": "stream",
     "text": [
      "{'mineral water': 6, 'eggs': 5, 'honey': 4, 'turkey': 4, 'shrimp': 3, 'low fat yogurt': 3, 'green tea': 3, 'salmon': 3, 'french fries': 3, 'spaghetti': 3, 'avocado': 2, 'burgers': 2, 'meatballs': 2, 'milk': 2, 'pet food': 2, 'cookies': 2, 'cooking oil': 2, 'chicken': 2, 'almonds': 1, 'vegetables mix': 1, 'green grapes': 1, 'whole wheat flour': 1, 'yams': 1, 'cottage cheese': 1, 'energy drink': 1, 'tomato juice': 1, 'salad': 1, 'antioxidant juice': 1, 'frozen smoothie': 1, 'spinach': 1, 'olive oil': 1, 'chutney': 1, 'energy bar': 1, 'whole wheat rice': 1, 'whole wheat pasta': 1, 'soup': 1, 'light cream': 1, 'shallot': 1, 'frozen vegetables': 1, 'champagne': 1, 'chocolate': 1, 'oil': 1, 'fresh tuna': 1, 'tomatoes': 1, 'black tea': 1, 'extra dark chocolate': 1, 'protein bar': 1}\n"
     ]
    }
   ],
   "source": [
    "import time\n",
    "start = time.time()\n",
    "def insertion_sort(frequency_counter):\n",
    "    frequency_list = list(frequency_counter.items())  \n",
    "    l = len(frequency_list)\n",
    "    for i in range(1,l):\n",
    "        key = frequency_list[i]\n",
    "        \n",
    "        j=i-1\n",
    "        \n",
    "        while j>=0 and frequency_list[j][1]<key[1]:\n",
    "            \n",
    "            frequency_list[j+1]=frequency_list[j]\n",
    "            j-=1\n",
    "            \n",
    "        frequency_list[j+1]=key\n",
    "    return dict(frequency_list)\n",
    "        \n",
    "print(insertion_sort(frequency_counter))\n",
    "end = time.time()\n",
    "total_time_insertion = (end-start) *1000"
   ]
  },
  {
   "cell_type": "code",
   "execution_count": 23,
   "metadata": {},
   "outputs": [
    {
     "name": "stdout",
     "output_type": "stream",
     "text": [
      "Total execution time in milliseconds for insertion sort =  0.9980201721191406\n"
     ]
    }
   ],
   "source": [
    "print(\"Total execution time in milliseconds for insertion sort = \", total_time_insertion)"
   ]
  },
  {
   "cell_type": "markdown",
   "metadata": {},
   "source": [
    "Selection Sort"
   ]
  },
  {
   "cell_type": "code",
   "execution_count": 24,
   "metadata": {},
   "outputs": [
    {
     "name": "stdout",
     "output_type": "stream",
     "text": [
      "{'mineral water': 6, 'eggs': 5, 'honey': 4, 'turkey': 4, 'low fat yogurt': 3, 'green tea': 3, 'shrimp': 3, 'salmon': 3, 'french fries': 3, 'spaghetti': 3, 'avocado': 2, 'burgers': 2, 'meatballs': 2, 'milk': 2, 'pet food': 2, 'cookies': 2, 'cooking oil': 2, 'chicken': 2, 'spinach': 1, 'olive oil': 1, 'whole wheat flour': 1, 'green grapes': 1, 'almonds': 1, 'chutney': 1, 'vegetables mix': 1, 'salad': 1, 'energy bar': 1, 'whole wheat rice': 1, 'whole wheat pasta': 1, 'energy drink': 1, 'soup': 1, 'light cream': 1, 'shallot': 1, 'frozen vegetables': 1, 'tomato juice': 1, 'yams': 1, 'cottage cheese': 1, 'antioxidant juice': 1, 'champagne': 1, 'chocolate': 1, 'frozen smoothie': 1, 'oil': 1, 'fresh tuna': 1, 'tomatoes': 1, 'black tea': 1, 'extra dark chocolate': 1, 'protein bar': 1}\n"
     ]
    }
   ],
   "source": [
    "import time\n",
    "start = time.time()\n",
    "def selection_sort(frequency_counter):\n",
    "    frequency_list = list(frequency_counter.items())  \n",
    "    l = len(frequency_list)\n",
    "    for i in range(l):\n",
    "        maxi = i\n",
    "        for j in range(i+1,l):\n",
    "            if frequency_list[j][1]>frequency_list[maxi][1]:\n",
    "                maxi=j\n",
    "        frequency_list[i],frequency_list[maxi] = frequency_list[maxi],frequency_list[i]\n",
    "    sortdict=dict(frequency_list)\n",
    "    return sortdict\n",
    "print(selection_sort(frequency_counter))\n",
    "end = time.time()\n",
    "total_time_selection = (end-start)*1000"
   ]
  },
  {
   "cell_type": "code",
   "execution_count": 25,
   "metadata": {},
   "outputs": [
    {
     "name": "stdout",
     "output_type": "stream",
     "text": [
      "Total execution time in milliseconds for selection sort =  0.9965896606445312\n"
     ]
    }
   ],
   "source": [
    "print(\"Total execution time in milliseconds for selection sort = \", total_time_selection)"
   ]
  },
  {
   "cell_type": "markdown",
   "metadata": {},
   "source": [
    "Merge Sort"
   ]
  },
  {
   "cell_type": "code",
   "execution_count": 26,
   "metadata": {},
   "outputs": [
    {
     "name": "stdout",
     "output_type": "stream",
     "text": [
      "{'mineral water': 6, 'eggs': 5, 'turkey': 4, 'honey': 4, 'spaghetti': 3, 'french fries': 3, 'salmon': 3, 'green tea': 3, 'low fat yogurt': 3, 'shrimp': 3, 'chicken': 2, 'cooking oil': 2, 'cookies': 2, 'pet food': 2, 'milk': 2, 'meatballs': 2, 'burgers': 2, 'avocado': 2, 'protein bar': 1, 'extra dark chocolate': 1, 'black tea': 1, 'tomatoes': 1, 'fresh tuna': 1, 'oil': 1, 'chocolate': 1, 'champagne': 1, 'frozen vegetables': 1, 'shallot': 1, 'light cream': 1, 'soup': 1, 'whole wheat pasta': 1, 'whole wheat rice': 1, 'energy bar': 1, 'chutney': 1, 'olive oil': 1, 'spinach': 1, 'frozen smoothie': 1, 'antioxidant juice': 1, 'salad': 1, 'tomato juice': 1, 'energy drink': 1, 'cottage cheese': 1, 'yams': 1, 'whole wheat flour': 1, 'green grapes': 1, 'vegetables mix': 1, 'almonds': 1}\n"
     ]
    }
   ],
   "source": [
    "import time\n",
    "start = time.time()\n",
    "frequency_list = list(frequency_counter.items())\n",
    "def merge_sort(frequency_list):\n",
    "    if len(frequency_list)>1:\n",
    "        l = len(frequency_list)\n",
    "        mid = l//2\n",
    "        L=frequency_list[:mid]\n",
    "        R=frequency_list[mid:]\n",
    "        merge_sort(L)\n",
    "        merge_sort(R)\n",
    "        i=j=k=0\n",
    "        while i<len(L) and j<len(R):\n",
    "            if L[i][1]>R[j][1]:\n",
    "                frequency_list[k]=L[i]\n",
    "                i+=1\n",
    "            else:\n",
    "                frequency_list[k]=R[j]\n",
    "                j+=1\n",
    "            k+=1\n",
    "        while i<len(L):\n",
    "            frequency_list[k]=L[i]\n",
    "            i+=1\n",
    "            k+=1\n",
    "        while j<len(R):\n",
    "            frequency_list[k]=R[j]\n",
    "            j+=1\n",
    "            k+=1\n",
    "        return dict(frequency_list)\n",
    "print(merge_sort(frequency_list))\n",
    "end = time.time()\n",
    "total_time_merge = (end-start)*1000"
   ]
  },
  {
   "cell_type": "code",
   "execution_count": 27,
   "metadata": {},
   "outputs": [
    {
     "name": "stdout",
     "output_type": "stream",
     "text": [
      "Total execution time in milliseconds for merge sort =  0.9887218475341797\n"
     ]
    }
   ],
   "source": [
    "print(\"Total execution time in milliseconds for merge sort = \", total_time_merge)"
   ]
  },
  {
   "cell_type": "markdown",
   "metadata": {},
   "source": [
    "Ranking of sorting algorithm based on Execution Time(Highest to Lowest)\n",
    "    1. Insertion Sort - 0.9980201721191406 ms\n",
    "    2. Selection Sort - 0.9965896606445312 ms\n",
    "    3. Merge Sort - 0.9887218475341797 ms\n",
    "    "
   ]
  },
  {
   "cell_type": "code",
   "execution_count": null,
   "metadata": {},
   "outputs": [],
   "source": []
  }
 ],
 "metadata": {
  "colab": {
   "name": "Data.ipynb",
   "provenance": []
  },
  "kernelspec": {
   "display_name": "Python 3",
   "language": "python",
   "name": "python3"
  },
  "language_info": {
   "codemirror_mode": {
    "name": "ipython",
    "version": 3
   },
   "file_extension": ".py",
   "mimetype": "text/x-python",
   "name": "python",
   "nbconvert_exporter": "python",
   "pygments_lexer": "ipython3",
   "version": "3.8.5"
  }
 },
 "nbformat": 4,
 "nbformat_minor": 1
}
